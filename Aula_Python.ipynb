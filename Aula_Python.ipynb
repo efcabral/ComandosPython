{
  "nbformat": 4,
  "nbformat_minor": 0,
  "metadata": {
    "colab": {
      "provenance": [],
      "authorship_tag": "ABX9TyP0UA63RjC79GNg2ZDPeQCB",
      "include_colab_link": true
    },
    "kernelspec": {
      "name": "python3",
      "display_name": "Python 3"
    },
    "language_info": {
      "name": "python"
    }
  },
  "cells": [
    {
      "cell_type": "markdown",
      "metadata": {
        "id": "view-in-github",
        "colab_type": "text"
      },
      "source": [
        "<a href=\"https://colab.research.google.com/github/efcabral/ComandosPython/blob/main/Aula_Python.ipynb\" target=\"_parent\"><img src=\"https://colab.research.google.com/assets/colab-badge.svg\" alt=\"Open In Colab\"/></a>"
      ]
    },
    {
      "cell_type": "code",
      "execution_count": 7,
      "metadata": {
        "colab": {
          "base_uri": "https://localhost:8080/"
        },
        "id": "WNMwZw29nG6V",
        "outputId": "1ca30d01-8e29-4301-de87-0211f0cff3a9"
      },
      "outputs": [
        {
          "output_type": "execute_result",
          "data": {
            "text/plain": [
              "43"
            ]
          },
          "metadata": {},
          "execution_count": 7
        }
      ],
      "source": [
        "# bibliotecas\n",
        "import requests\n",
        "\n",
        "url = 'https://raw.githubusercontent.com/guilhermeonrails/api-imersao-ia/main/words.json'\n",
        "resposta = requests.get(url)\n",
        "data = resposta.json()\n",
        "len(data)\n",
        "\n",
        "\n"
      ]
    },
    {
      "cell_type": "code",
      "source": [
        "data[0]"
      ],
      "metadata": {
        "colab": {
          "base_uri": "https://localhost:8080/"
        },
        "id": "9yIbml0M1Yp0",
        "outputId": "fc0fcf2e-efda-4999-be9f-14b0f3950fa0"
      },
      "execution_count": 10,
      "outputs": [
        {
          "output_type": "execute_result",
          "data": {
            "text/plain": [
              "{'palavra': 'python',\n",
              " 'dica': 'automatizar tarefas e desenvolver aplicações web.'}"
            ]
          },
          "metadata": {},
          "execution_count": 10
        }
      ]
    },
    {
      "cell_type": "code",
      "source": [
        "import random\n",
        "\n",
        "valor_secreto = random.choice(data)\n",
        "palavra_secreta = valor_secreto['palavra']\n",
        "dica = valor_secreto['dica']\n",
        "print(f'A palavra secreta tem {len(palavra_secreta)} letras -> {dica}')"
      ],
      "metadata": {
        "colab": {
          "base_uri": "https://localhost:8080/"
        },
        "id": "44YA6YGusxRV",
        "outputId": "dff74538-8053-4b27-9e90-523e19ec2f85"
      },
      "execution_count": 9,
      "outputs": [
        {
          "output_type": "stream",
          "name": "stdout",
          "text": [
            "A palavra secreta tem 6 letras -> armazenar e processar grandes volumes de dados em clusters distribuídos.\n"
          ]
        }
      ]
    },
    {
      "cell_type": "code",
      "source": [
        "# o -q (quiet) é pra deixar o comando silencioso. Não imprimir em tela os output\n",
        "# o -U vai fazer o update automaticamente\n",
        "!pip install -q -U google-generativeai"
      ],
      "metadata": {
        "id": "Fzy5Zgy0D2AX"
      },
      "execution_count": 16,
      "outputs": []
    },
    {
      "cell_type": "code",
      "source": [
        "# Import the Pyton SDK\n",
        "\n",
        "import google.generativeai as genai\n",
        "from google.colab import userdata\n",
        "api_key = userdata.get('SECRET_KEY')\n",
        "genai.configure(api_key=api_key)\n",
        "\n",
        "#GOOGLE_API_KEY=userdata.get('GOOGLE_API_KEY')\n",
        "\n",
        "# GOOGLE_API_KEY=\"AIzaSyDaT0o4a-qt6DQGzoNTPm\"\n",
        "#genai.configure(api_key=GOOGLE_API_KEY)\n"
      ],
      "metadata": {
        "id": "Z0h_JKUiE9zZ"
      },
      "execution_count": 43,
      "outputs": []
    },
    {
      "cell_type": "code",
      "source": [
        "model = genai.GenerativeModel('gemini-pro')\n"
      ],
      "metadata": {
        "id": "4XQTmZRiHggn"
      },
      "execution_count": 19,
      "outputs": []
    },
    {
      "cell_type": "code",
      "source": [
        "response = model.generate_content(\"Vamos aprender conteúdo sobre IA. Me dê sugestões.\")\n",
        "print(response.text)\n"
      ],
      "metadata": {
        "colab": {
          "base_uri": "https://localhost:8080/",
          "height": 816
        },
        "collapsed": true,
        "id": "U7wzciMMHuIw",
        "outputId": "94f0e24d-e79e-4878-f14b-1668565602d6"
      },
      "execution_count": 21,
      "outputs": [
        {
          "output_type": "stream",
          "name": "stdout",
          "text": [
            "**Conceitos Básicos de IA**\n",
            "\n",
            "* Definição de Inteligência Artificial\n",
            "* Tipos de IA: Máquina de Aprendizado, Aprendizado Profundo, Processamento de Linguagem Natural\n",
            "* Técnicas Comuns de IA: Redes Neurais, Árvores de Decisão, Algoritmos Evolutivos\n",
            "\n",
            "**Máquina de Aprendizado**\n",
            "\n",
            "* Tipos de Aprendizado de Máquina: Supervisionado, Não Supervisionado, por Reforço\n",
            "* Algoritmos de Aprendizado Supervisionado: Regressão Linear, Classificação Logística\n",
            "* Algoritmos de Aprendizado Não Supervisionado: K-Means, Análise de Componentes Principais\n",
            "* Avaliação do Modelo de Aprendizado de Máquina: Precisão, Revocação, F1-Score\n",
            "\n",
            "**Aprendizado Profundo**\n",
            "\n",
            "* Redes Neurais: Arquiteturas e Treinamento\n",
            "* Convolucional Neural Networks (CNNs)\n",
            "* Redes Neurais Recorrentes (RNNs)\n",
            "* Aplicativos de Aprendizado Profundo: Visão Computacional, Processamento de Linguagem Natural\n",
            "\n",
            "**Processamento de Linguagem Natural (PNL)**\n",
            "\n",
            "* Tarefas de PNL: Classificação de Texto, Geração de Texto, Análise de Sentimentos\n",
            "* Técnicas de PNL: Tokenização, Análise Sintática, Imersão em Palavras\n",
            "* Modelos de PNL: Transformadores, BERT, GPT-3\n",
            "\n",
            "**Ética e Implicações Sociais da IA**\n",
            "\n",
            "* Viés e Discriminação na IA\n",
            "* Transparência e Responsabilidade\n",
            "* Desafios Éticos da IA: Autonomia, Impacto no Emprego\n",
            "* Políticas e Regulamentos de IA\n",
            "\n",
            "**Recursos Adicionais**\n",
            "\n",
            "* **Livros:**\n",
            "    * \"Introdução à Inteligência Artificial\" por Russell e Norvig\n",
            "    * \"Aprendizado de Máquina\" por Ethem Alpaydin\n",
            "    * \"Aprendizado Profundo\" por Ian Goodfellow, Yoshua Bengio e Aaron Courville\n",
            "* **Cursos Online:**\n",
            "    * Curso de IA da Coursera\n",
            "    * Especialização em Aprendizado de Máquina da edX\n",
            "    * Curso de Aprendizado Profundo da Udemy\n",
            "* **Comunidades e Fóruns:**\n",
            "    * Fórum Stack Overflow (IA)\n",
            "    * Subreddit r/MachineLearning\n",
            "    * Comunidade do Discord da IA\n"
          ]
        }
      ]
    },
    {
      "cell_type": "code",
      "source": [
        "for m in genai.list_models():\n",
        "  if 'generateContent' in m.supported_generation_methods:\n",
        "    print(m.name)"
      ],
      "metadata": {
        "colab": {
          "base_uri": "https://localhost:8080/",
          "height": 136
        },
        "id": "OeAOb7AfKWnX",
        "outputId": "ac323de9-6bb6-47d1-de03-b6ca46270e68"
      },
      "execution_count": 22,
      "outputs": [
        {
          "output_type": "stream",
          "name": "stdout",
          "text": [
            "models/gemini-1.0-pro\n",
            "models/gemini-1.0-pro-001\n",
            "models/gemini-1.0-pro-latest\n",
            "models/gemini-1.0-pro-vision-latest\n",
            "models/gemini-1.5-pro-latest\n",
            "models/gemini-pro\n",
            "models/gemini-pro-vision\n"
          ]
        }
      ]
    },
    {
      "cell_type": "markdown",
      "source": [],
      "metadata": {
        "id": "mka16SP_HgH2"
      }
    },
    {
      "cell_type": "code",
      "source": [
        "generation_config ={\n",
        "    \"candidate\": 1,\n",
        "    \"temperature\": 0.5\n",
        "    # \"top_p\": 3\n",
        "}"
      ],
      "metadata": {
        "id": "Sua6HW1_MS0I"
      },
      "execution_count": 23,
      "outputs": []
    },
    {
      "cell_type": "code",
      "source": [
        "safety_settings = {\n",
        "    \"HARASSMENT\": \"BLOCK_NONE\",\n",
        "    \"HATE\": \"BLOCK_NONE\",\n",
        "    \"SEXUAL\": \"BLOCK_NONE\",\n",
        "    \"DANGEROUS\": \"BLOCK_NONE\"\n",
        "}"
      ],
      "metadata": {
        "id": "nCWvBRFqNXDN"
      },
      "execution_count": 24,
      "outputs": []
    },
    {
      "cell_type": "markdown",
      "source": [
        "Inicializando o modelo"
      ],
      "metadata": {
        "id": "K01jIxgjPBsD"
      }
    },
    {
      "cell_type": "code",
      "source": [
        "model = genai.GenerativeModel(model_name=\"gemini-1.0-pro\")\n",
        "\n",
        "                             # generation_config=generation_config,\n",
        "                             # safety_settings=safety_settings)"
      ],
      "metadata": {
        "id": "U9R9hiZuPFHD"
      },
      "execution_count": 34,
      "outputs": []
    },
    {
      "cell_type": "code",
      "source": [
        "response = model.generate_content(\"Vamos aprender conteúdo sobre IA. Me dê sugestões.\")\n",
        "print(response.text)"
      ],
      "metadata": {
        "colab": {
          "base_uri": "https://localhost:8080/",
          "height": 799
        },
        "collapsed": true,
        "id": "HotLNxodQRSG",
        "outputId": "aca849f8-42c9-4507-b320-1a549e33ee99"
      },
      "execution_count": 35,
      "outputs": [
        {
          "output_type": "stream",
          "name": "stdout",
          "text": [
            "**Conceitos Fundamentais**\n",
            "\n",
            "* O que é Inteligência Artificial (IA)?\n",
            "* Tipos de IA: IA fraca, IA forte e IA geral\n",
            "* Algoritmos de aprendizado de máquina\n",
            "* Aprendizado supervisionado, não supervisionado e por reforço\n",
            "* Redes neurais e aprendizado profundo\n",
            "\n",
            "**Aplicações da IA**\n",
            "\n",
            "* Visão computacional e reconhecimento de imagem\n",
            "* Processamento de linguagem natural (PNL)\n",
            "* Sistemas de recomendação e análise preditiva\n",
            "* Veículos autônomos e robótica\n",
            "* Saúde e medicina\n",
            "* Finanças e comércio\n",
            "\n",
            "**Ética e Implicações Sociais da IA**\n",
            "\n",
            "* Viés e discriminação em algoritmos de IA\n",
            "* Perda de empregos devido à automação\n",
            "* Preocupações com privacidade e segurança\n",
            "* Regulamentação e política da IA\n",
            "* Impacto social e econômico da IA\n",
            "\n",
            "**Aprendizado Prático**\n",
            "\n",
            "* Ferramentas e plataformas para desenvolver aplicativos de IA\n",
            "* Linguagens de programação usadas em IA (Python, R, Julia)\n",
            "* Bibliotecas e frameworks populares de IA\n",
            "* Técnicas de avaliação e implantação de modelos de IA\n",
            "\n",
            "**Tendências e Pesquisas Avançadas**\n",
            "\n",
            "* IA generativa e arte\n",
            "* Metaverso e IA\n",
            "* Aprendizado de máquina quântico\n",
            "* Inteligência artificial de borda\n",
            "* Aplicações de IA em sustentabilidade e mudanças climáticas\n",
            "\n",
            "**Recursos Adicionais**\n",
            "\n",
            "* Cursos online e certificações em IA\n",
            "* Comunidades e fóruns de IA\n",
            "* Revistas e artigos acadêmicos sobre IA\n",
            "* Conferências e eventos da indústria de IA\n"
          ]
        }
      ]
    },
    {
      "cell_type": "code",
      "source": [
        "chat = model.start_chat(history=[])"
      ],
      "metadata": {
        "id": "fjgR4X0NSOkn"
      },
      "execution_count": 37,
      "outputs": []
    },
    {
      "cell_type": "code",
      "source": [
        "prompt = input(\"Esperando prompt: \")\n",
        "\n",
        "while prompt != \"fim\":\n",
        "  response = chat.send_message(prompt)\n",
        "  print(\"Resposta: \", response.text, \"\\n\")\n",
        "  prompt = input(\"Esperando prompt: \")"
      ],
      "metadata": {
        "colab": {
          "base_uri": "https://localhost:8080/",
          "height": 85
        },
        "collapsed": true,
        "id": "R16QuoXdSvpq",
        "outputId": "eb1e038e-97d4-4a8c-e1c2-55437f8fe118"
      },
      "execution_count": 38,
      "outputs": [
        {
          "name": "stdout",
          "output_type": "stream",
          "text": [
            "Esperando prompt: qual a capital do Japão?\n",
            "Resposta:  Tóquio \n",
            "\n",
            "Esperando prompt: fim\n"
          ]
        }
      ]
    }
  ]
}